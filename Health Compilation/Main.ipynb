{
 "cells": [
  {
   "cell_type": "markdown",
   "metadata": {},
   "source": [
    "## Health Compilation\n",
    "1. BMI (Body Mass Index) Calculator\n",
    "2. ACE (Annual Ciggarete expense)\n",
    "3. CBBHR (Calorie Burned by Heart Rate Formula)"
   ]
  },
  {
   "cell_type": "code",
   "execution_count": 5,
   "metadata": {},
   "outputs": [
    {
     "name": "stdout",
     "output_type": "stream",
     "text": [
      "Your wieght in KG (KiloGram) : 50\n",
      "Your hieght in meters : 1.5\n",
      "\n",
      "Your BMI is :  22.22222222222222\n"
     ]
    }
   ],
   "source": [
    "from tkinter import *\n",
    "wieght_inp = int(input(\"Your wieght in KG (KiloGram) : \"))\n",
    "hieght_inp = float(input(\"Your hieght in meters : \"))\n",
    "\n",
    "sec = hieght_inp**2\n",
    "\n",
    "bmi = wieght_inp/sec\n",
    "print()\n",
    "print(\"Your BMI is : \" , end = \" \")\n",
    "print(bmi)"
   ]
  },
  {
   "cell_type": "code",
   "execution_count": 4,
   "metadata": {},
   "outputs": [
    {
     "name": "stdout",
     "output_type": "stream",
     "text": [
      "Number of cigarettes smoked per day : 3\n",
      "Number of cigarettes in a pack : 4\n",
      "Price per pack (INR) : 10\n",
      "\n",
      "The monthly ACE is :  225.0\n",
      "\n",
      "The annual ACE is :  2737.5\n"
     ]
    }
   ],
   "source": [
    "M = int(input(\"Number of cigarettes smoked per day : \"))\n",
    "C = int(input(\"Number of cigarettes in a pack : \"))\n",
    "P = int(input(\"Price per pack (INR) : \"))\n",
    "\n",
    "monthly = ((M / C )* 30 )* P\n",
    "annualy = ((M / C ) * 365 ) * P\n",
    "\n",
    "print()\n",
    "print(\"The monthly ACE is : \" , end = \" \")\n",
    "print(monthly)\n",
    "print()\n",
    "print(\"The annual ACE is : \" , end = \" \")\n",
    "print(annualy)"
   ]
  },
  {
   "cell_type": "code",
   "execution_count": 11,
   "metadata": {},
   "outputs": [
    {
     "name": "stdout",
     "output_type": "stream",
     "text": [
      "Current heart rate : 3\n",
      "Wieght in kilograms : 4\n",
      "Age : 5\n",
      "Excersize duration time : 5\n",
      "Gender [M/F]M\n"
     ]
    }
   ],
   "source": [
    "# HR = Heart Rate\n",
    "# W = Weight in kilograms\n",
    "# A = Age\n",
    "# T = Exercise duration time in hours\n",
    "# VM (VO2 max) = Maximal oxygen consumption (in mL kg-1 min-1)\n",
    "\n",
    "\n",
    "HR = int(input(\"Current heart rate : \"))\n",
    "W = int(input(\"Wieght in kilograms : \"))\n",
    "A = int(input(\"Age : \"))\n",
    "T = int(input(\"Excersize duration time : \"))\n",
    "G = str(input(\"Gender [M/F]\")) # For VO2 Max\n",
    "\n",
    "if (G == \"M\"):\n",
    "    VM = 14.8 - (1.379 * T) + (0.451 * T**2) - (0.012 * T**3)\n",
    "elif (G == \"F\"):\n",
    "    VM = (4.38 * T) - 3.9\n",
    "else :\n",
    "    print(\"Wrong input (please enter M or F)\")\n",
    "\n",
    "print"
   ]
  },
  {
   "cell_type": "code",
   "execution_count": null,
   "metadata": {},
   "outputs": [],
   "source": []
  }
 ],
 "metadata": {
  "kernelspec": {
   "display_name": "Python 3",
   "language": "python",
   "name": "python3"
  },
  "language_info": {
   "codemirror_mode": {
    "name": "ipython",
    "version": 3
   },
   "file_extension": ".py",
   "mimetype": "text/x-python",
   "name": "python",
   "nbconvert_exporter": "python",
   "pygments_lexer": "ipython3",
   "version": "3.8.3"
  }
 },
 "nbformat": 4,
 "nbformat_minor": 4
}
