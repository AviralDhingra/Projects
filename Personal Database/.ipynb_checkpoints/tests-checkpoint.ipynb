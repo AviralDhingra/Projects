{
 "cells": [
  {
   "cell_type": "code",
   "execution_count": 5,
   "id": "0295fd4a",
   "metadata": {},
   "outputs": [
    {
     "name": "stdout",
     "output_type": "stream",
     "text": [
      "Defaulting to user installation because normal site-packages is not writeable\n",
      "Collecting notify\n",
      "  Downloading notify-0.3.1.tar.gz (10 kB)\n",
      "Requirement already satisfied: notify2 in /home/deathblade287/.local/lib/python3.9/site-packages (0.3.1)\n",
      "Collecting da\n",
      "  Downloading da-0.1.tar.gz (2.4 kB)\n",
      "Collecting app_version\n",
      "  Downloading app_version-1.0.1-py3-none-any.whl (7.9 kB)\n",
      "Collecting validate_email\n",
      "  Downloading validate_email-1.3.tar.gz (4.7 kB)\n",
      "Building wheels for collected packages: notify, da, validate-email\n",
      "  Building wheel for notify (setup.py) ... \u001b[?25ldone\n",
      "\u001b[?25h  Created wheel for notify: filename=notify-0.3.1-py3-none-any.whl size=13726 sha256=f1face2b43fdbcd6f8c08802c50558546eb68a718f55ebcc4b5f60ec8992bbb1\n",
      "  Stored in directory: /home/deathblade287/.cache/pip/wheels/ce/df/a2/ca5bb0b455beb6aeef20965575c1260e1219f3b460d233878d\n",
      "  Building wheel for da (setup.py) ... \u001b[?25ldone\n",
      "\u001b[?25h  Created wheel for da: filename=da-0.1-py3-none-any.whl size=3001 sha256=6226d30ed372cff856cd47505f84542027e7c4ced0c07df5a671950a92b3f890\n",
      "  Stored in directory: /home/deathblade287/.cache/pip/wheels/b0/23/c8/1344fad15e598465047321d1b10be628b2e202d26371cc0e89\n",
      "  Building wheel for validate-email (setup.py) ... \u001b[?25ldone\n",
      "\u001b[?25h  Created wheel for validate-email: filename=validate_email-1.3-py3-none-any.whl size=5461 sha256=faddff8f1dfcba8c0815d398271a1d5bec3ec08bde7d38c8e6a8b8abcce5a6a4\n",
      "  Stored in directory: /home/deathblade287/.cache/pip/wheels/84/19/e3/329ee20a29b195fa193ee3af2475fa9392b08dde8ba893c714\n",
      "Successfully built notify da validate-email\n",
      "Installing collected packages: validate-email, app-version, notify, da\n",
      "Successfully installed app-version-1.0.1 da-0.1 notify-0.3.1 validate-email-1.3\n",
      "\u001b[33mWARNING: You are using pip version 21.1.3; however, version 21.2.3 is available.\n",
      "You should consider upgrading via the '/usr/bin/python3 -m pip install --upgrade pip' command.\u001b[0m\n"
     ]
    }
   ],
   "source": [
    "!pip install notify notify2 da"
   ]
  },
  {
   "cell_type": "code",
   "execution_count": 4,
   "id": "fe282412",
   "metadata": {},
   "outputs": [
    {
     "data": {
      "text/plain": [
       "True"
      ]
     },
     "execution_count": 4,
     "metadata": {},
     "output_type": "execute_result"
    }
   ],
   "source": [
    "# Desktop Notification\n",
    "import notify2\n",
    "notify2.init('Notification')\n",
    "n = notify2.Notification(\n",
    "    'Testing NOTIFICATIONS...', 'It Works!!')\n",
    "n.show()"
   ]
  },
  {
   "cell_type": "code",
   "execution_count": 12,
   "id": "4984a7b0",
   "metadata": {},
   "outputs": [
    {
     "name": "stdout",
     "output_type": "stream",
     "text": [
      "2021-07-14 19:28:47.528836\n",
      "<class 'datetime.datetime'>\n",
      "2021-07-14 19:27:00\n",
      "<class 'datetime.datetime'>\n"
     ]
    }
   ],
   "source": [
    "# Adding Time... Custom Time (When You Want To SHow Notification) + Time Right Now (While Running)\n",
    "from datetime import datetime as d\n",
    "\n",
    "import notify2\n",
    "\n",
    "now = d.now()\n",
    "print(now)\n",
    "print(type(now))\n",
    "notification_time = d(2021, 7, 14, 19, 27)\n",
    "print(notification_time)\n",
    "print(type(notification_time))"
   ]
  },
  {
   "cell_type": "code",
   "execution_count": 7,
   "id": "310b72b8",
   "metadata": {},
   "outputs": [
    {
     "name": "stdout",
     "output_type": "stream",
     "text": [
      "This Module Support Gmail & Microsoft Accounts (hotmail, outlook etc..\n",
      "Email : aviral270608@gmail.com\n",
      "Subject : sdf\n",
      "Message : gdfs\n"
     ]
    },
    {
     "ename": "NameError",
     "evalue": "name 'Mailer' is not defined",
     "output_type": "error",
     "traceback": [
      "\u001b[0;31m---------------------------------------------------------------------------\u001b[0m",
      "\u001b[0;31mNameError\u001b[0m                                 Traceback (most recent call last)",
      "\u001b[0;32m/tmp/ipykernel_323988/2526730230.py\u001b[0m in \u001b[0;36m<module>\u001b[0;34m\u001b[0m\n\u001b[1;32m      4\u001b[0m \u001b[0mmssg_inp\u001b[0m \u001b[0;34m=\u001b[0m \u001b[0minput\u001b[0m\u001b[0;34m(\u001b[0m\u001b[0;34m\"Message : \"\u001b[0m\u001b[0;34m)\u001b[0m\u001b[0;34m\u001b[0m\u001b[0;34m\u001b[0m\u001b[0m\n\u001b[1;32m      5\u001b[0m \u001b[0;34m\u001b[0m\u001b[0m\n\u001b[0;32m----> 6\u001b[0;31m \u001b[0mmail\u001b[0m \u001b[0;34m=\u001b[0m \u001b[0mMailer\u001b[0m\u001b[0;34m(\u001b[0m\u001b[0memail\u001b[0m\u001b[0;34m=\u001b[0m\u001b[0;34m'aviral270608@gmail.com'\u001b[0m\u001b[0;34m,\u001b[0m \u001b[0mpassword\u001b[0m\u001b[0;34m=\u001b[0m\u001b[0;34m'A@2008viral'\u001b[0m\u001b[0;34m)\u001b[0m\u001b[0;34m\u001b[0m\u001b[0;34m\u001b[0m\u001b[0m\n\u001b[0m\u001b[1;32m      7\u001b[0m mail.send(receiver=email_inp,\n\u001b[1;32m      8\u001b[0m          subject=subject_inp, message=mssg_inp)\n",
      "\u001b[0;31mNameError\u001b[0m: name 'Mailer' is not defined"
     ]
    }
   ],
   "source": [
    "print(\"This Module Support Gmail & Microsoft Accounts (hotmail, outlook etc..\")\n",
    "email_inp = input(\"Email : \")\n",
    "subject_inp = input(\"Subject : \")\n",
    "mssg_inp = input(\"Message : \")\n",
    "\n",
    "mail = Mailer(email='aviral270608@gmail.com', password='A@2008viral')\n",
    "mail.send(receiver=email_inp,\n",
    "          subject=subject_inp, message=mssg_inp)"
   ]
  },
  {
   "cell_type": "code",
   "execution_count": null,
   "id": "a60e436f",
   "metadata": {},
   "outputs": [],
   "source": []
  }
 ],
 "metadata": {
  "kernelspec": {
   "display_name": "Python 3 (ipykernel)",
   "language": "python",
   "name": "python3"
  },
  "language_info": {
   "codemirror_mode": {
    "name": "ipython",
    "version": 3
   },
   "file_extension": ".py",
   "mimetype": "text/x-python",
   "name": "python",
   "nbconvert_exporter": "python",
   "pygments_lexer": "ipython3",
   "version": "3.9.5"
  }
 },
 "nbformat": 4,
 "nbformat_minor": 5
}
