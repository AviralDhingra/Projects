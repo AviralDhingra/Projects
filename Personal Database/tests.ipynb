{
 "cells": [
  {
   "cell_type": "code",
   "execution_count": 2,
   "id": "0295fd4a",
   "metadata": {},
   "outputs": [
    {
     "name": "stdout",
     "output_type": "stream",
     "text": [
      "Requirement already satisfied: notify in /home/deathblade287/anaconda3/lib/python3.8/site-packages (0.3.1)\r\n",
      "Requirement already satisfied: notify2 in /home/deathblade287/anaconda3/lib/python3.8/site-packages (0.3.1)\r\n",
      "Requirement already satisfied: da in /home/deathblade287/anaconda3/lib/python3.8/site-packages (0.1)\r\n",
      "Requirement already satisfied: validate-email in /home/deathblade287/anaconda3/lib/python3.8/site-packages (from notify) (1.3)\r\n",
      "Requirement already satisfied: app-version in /home/deathblade287/anaconda3/lib/python3.8/site-packages (from notify) (1.0.1)\r\n"
     ]
    }
   ],
   "source": [
    "!pip install notify notify2 da"
   ]
  },
  {
   "cell_type": "code",
   "execution_count": 3,
   "id": "fe282412",
   "metadata": {},
   "outputs": [
    {
     "ename": "ModuleNotFoundError",
     "evalue": "No module named 'dbus'",
     "output_type": "error",
     "traceback": [
      "\u001b[0;31m---------------------------------------------------------------------------\u001b[0m",
      "\u001b[0;31mModuleNotFoundError\u001b[0m                       Traceback (most recent call last)",
      "\u001b[0;32m<ipython-input-3-2448df8d7380>\u001b[0m in \u001b[0;36m<module>\u001b[0;34m\u001b[0m\n\u001b[1;32m      1\u001b[0m \u001b[0;31m# Desktop Notification\u001b[0m\u001b[0;34m\u001b[0m\u001b[0;34m\u001b[0m\u001b[0;34m\u001b[0m\u001b[0m\n\u001b[0;32m----> 2\u001b[0;31m \u001b[0;32mimport\u001b[0m \u001b[0mnotify2\u001b[0m\u001b[0;34m\u001b[0m\u001b[0;34m\u001b[0m\u001b[0m\n\u001b[0m\u001b[1;32m      3\u001b[0m \u001b[0mnotify2\u001b[0m\u001b[0;34m.\u001b[0m\u001b[0minit\u001b[0m\u001b[0;34m(\u001b[0m\u001b[0;34m'Notification'\u001b[0m\u001b[0;34m)\u001b[0m\u001b[0;34m\u001b[0m\u001b[0;34m\u001b[0m\u001b[0m\n\u001b[1;32m      4\u001b[0m n = notify2.Notification(\n\u001b[1;32m      5\u001b[0m     'Testing NOTIFICATIONS...', 'It Works!!')\n",
      "\u001b[0;32m~/anaconda3/lib/python3.8/site-packages/notify2.py\u001b[0m in \u001b[0;36m<module>\u001b[0;34m\u001b[0m\n\u001b[1;32m     37\u001b[0m \"\"\"\n\u001b[1;32m     38\u001b[0m \u001b[0;34m\u001b[0m\u001b[0m\n\u001b[0;32m---> 39\u001b[0;31m \u001b[0;32mimport\u001b[0m \u001b[0mdbus\u001b[0m\u001b[0;34m\u001b[0m\u001b[0;34m\u001b[0m\u001b[0m\n\u001b[0m\u001b[1;32m     40\u001b[0m \u001b[0;34m\u001b[0m\u001b[0m\n\u001b[1;32m     41\u001b[0m \u001b[0m__version__\u001b[0m \u001b[0;34m=\u001b[0m \u001b[0;34m'0.3.1'\u001b[0m\u001b[0;34m\u001b[0m\u001b[0;34m\u001b[0m\u001b[0m\n",
      "\u001b[0;31mModuleNotFoundError\u001b[0m: No module named 'dbus'"
     ]
    }
   ],
   "source": [
    "# Desktop Notification\n",
    "import notify2\n",
    "notify2.init('Notification')\n",
    "n = notify2.Notification(\n",
    "    'Testing NOTIFICATIONS...', 'It Works!!')\n",
    "n.show()"
   ]
  },
  {
   "cell_type": "code",
   "execution_count": 4,
   "id": "4984a7b0",
   "metadata": {},
   "outputs": [
    {
     "ename": "ModuleNotFoundError",
     "evalue": "No module named 'dbus'",
     "output_type": "error",
     "traceback": [
      "\u001b[0;31m---------------------------------------------------------------------------\u001b[0m",
      "\u001b[0;31mModuleNotFoundError\u001b[0m                       Traceback (most recent call last)",
      "\u001b[0;32m<ipython-input-4-0587c0b29063>\u001b[0m in \u001b[0;36m<module>\u001b[0;34m\u001b[0m\n\u001b[1;32m      2\u001b[0m \u001b[0;32mfrom\u001b[0m \u001b[0mdatetime\u001b[0m \u001b[0;32mimport\u001b[0m \u001b[0mdatetime\u001b[0m \u001b[0;32mas\u001b[0m \u001b[0md\u001b[0m\u001b[0;34m\u001b[0m\u001b[0;34m\u001b[0m\u001b[0m\n\u001b[1;32m      3\u001b[0m \u001b[0;34m\u001b[0m\u001b[0m\n\u001b[0;32m----> 4\u001b[0;31m \u001b[0;32mimport\u001b[0m \u001b[0mnotify2\u001b[0m\u001b[0;34m\u001b[0m\u001b[0;34m\u001b[0m\u001b[0m\n\u001b[0m\u001b[1;32m      5\u001b[0m \u001b[0;34m\u001b[0m\u001b[0m\n\u001b[1;32m      6\u001b[0m \u001b[0mnow\u001b[0m \u001b[0;34m=\u001b[0m \u001b[0md\u001b[0m\u001b[0;34m.\u001b[0m\u001b[0mnow\u001b[0m\u001b[0;34m(\u001b[0m\u001b[0;34m)\u001b[0m\u001b[0;34m\u001b[0m\u001b[0;34m\u001b[0m\u001b[0m\n",
      "\u001b[0;32m~/anaconda3/lib/python3.8/site-packages/notify2.py\u001b[0m in \u001b[0;36m<module>\u001b[0;34m\u001b[0m\n\u001b[1;32m     37\u001b[0m \"\"\"\n\u001b[1;32m     38\u001b[0m \u001b[0;34m\u001b[0m\u001b[0m\n\u001b[0;32m---> 39\u001b[0;31m \u001b[0;32mimport\u001b[0m \u001b[0mdbus\u001b[0m\u001b[0;34m\u001b[0m\u001b[0;34m\u001b[0m\u001b[0m\n\u001b[0m\u001b[1;32m     40\u001b[0m \u001b[0;34m\u001b[0m\u001b[0m\n\u001b[1;32m     41\u001b[0m \u001b[0m__version__\u001b[0m \u001b[0;34m=\u001b[0m \u001b[0;34m'0.3.1'\u001b[0m\u001b[0;34m\u001b[0m\u001b[0;34m\u001b[0m\u001b[0m\n",
      "\u001b[0;31mModuleNotFoundError\u001b[0m: No module named 'dbus'"
     ]
    }
   ],
   "source": [
    "# Adding Time... Custom Time (When You Want To SHow Notification) + Time Right Now (While Running)\n",
    "from datetime import datetime as d\n",
    "\n",
    "import notify2\n",
    "\n",
    "now = d.now()\n",
    "print(now)\n",
    "print(type(now))\n",
    "notification_time = d(2021, 7, 14, 19, 27)\n",
    "print(notification_time)\n",
    "print(type(notification_time))"
   ]
  },
  {
   "cell_type": "code",
   "execution_count": null,
   "id": "310b72b8",
   "metadata": {},
   "outputs": [
    {
     "name": "stdout",
     "output_type": "stream",
     "text": [
      "Requirement already satisfied: mailer in /home/deathblade287/anaconda3/lib/python3.8/site-packages (0.8.1)\n",
      "This Module Support Gmail & Microsoft Accounts (hotmail, outlook etc..\n"
     ]
    }
   ],
   "source": [
    "!pip install mailer\n",
    "from mailer import Mailer\n",
    "print(\"This Module Support Gmail & Microsoft Accounts (hotmail, outlook etc..\")\n",
    "email_inp = input(\"Email : \")\n",
    "subject_inp = input(\"Subject : \")\n",
    "mssg_inp = input(\"Message : \")\n",
    "\n",
    "mail = Mailer('aviral270608@gmail.com', 'A@2008viral')\n",
    "mail.send(receiver=email_inp,\n",
    "          subject=subject_inp, message=mssg_inp)"
   ]
  },
  {
   "cell_type": "code",
   "execution_count": null,
   "id": "e432525f",
   "metadata": {},
   "outputs": [],
   "source": []
  }
 ],
 "metadata": {
  "kernelspec": {
   "display_name": "Python 3 (ipykernel)",
   "language": "python",
   "name": "python3"
  },
  "language_info": {
   "codemirror_mode": {
    "name": "ipython",
    "version": 3
   },
   "file_extension": ".py",
   "mimetype": "text/x-python",
   "name": "python",
   "nbconvert_exporter": "python",
   "pygments_lexer": "ipython3",
   "version": "3.8.8"
  }
 },
 "nbformat": 4,
 "nbformat_minor": 5
}
