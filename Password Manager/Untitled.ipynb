{
 "cells": [
  {
   "cell_type": "code",
   "execution_count": 1,
   "id": "6ea3092e",
   "metadata": {},
   "outputs": [
    {
     "name": "stdout",
     "output_type": "stream",
     "text": [
      "ENTER THE NUMBER : 454555\n",
      "454555 x 1 = 454555\n",
      "454555 x 2 = 909110\n",
      "454555 x 3 = 1363665\n",
      "454555 x 4 = 1818220\n",
      "454555 x 5 = 2272775\n",
      "454555 x 6 = 2727330\n",
      "454555 x 7 = 3181885\n",
      "454555 x 8 = 3636440\n",
      "454555 x 9 = 4090995\n",
      "454555 x 10 = 4545550\n"
     ]
    }
   ],
   "source": [
    "t = int(input(\"ENTER THE NUMBER : \"))\n",
    "for i in range(1, 11):\n",
    "  b  = t * i\n",
    "  print(f\"{t} x {i} = {b}\")"
   ]
  },
  {
   "cell_type": "code",
   "execution_count": 3,
   "id": "6cfb226f",
   "metadata": {},
   "outputs": [
    {
     "name": "stdout",
     "output_type": "stream",
     "text": [
      "Pos,Lang,Percent,Change\n",
      "1 Python 33.2 UP\n",
      "2 Java 23.54 DOWN\n",
      "3 Ruby 17.22 UP\n",
      "10 Lua 10.55 DOWN\n",
      "5 Groovy 9.22 DOWN\n",
      "6 C 1.55 UP\n"
     ]
    }
   ],
   "source": [
    "# 1. Unformatted Fashion\n",
    "## Python program to print the data\n",
    "d = {1: [\"Python\", 33.2, 'UP'],\n",
    "2: [\"Java\", 23.54, 'DOWN'],\n",
    "3: [\"Ruby\", 17.22, 'UP'],\n",
    "10: [\"Lua\", 10.55, 'DOWN'],\n",
    "5: [\"Groovy\", 9.22, 'DOWN'],\n",
    "6: [\"C\", 1.55, 'UP'] }\n",
    "print (\"Pos,Lang,Percent,Change\")\n",
    "for k, v in d.items():\n",
    "    lang, perc, change = v\n",
    "    print (k, lang, perc, change)"
   ]
  },
  {
   "cell_type": "code",
   "execution_count": 4,
   "id": "60d521b5",
   "metadata": {},
   "outputs": [
    {
     "name": "stdout",
     "output_type": "stream",
     "text": [
      "Pos      Lang            Percent    Change    \n",
      "1        Python          33.2       UP        \n",
      "2        Java            23.54      DOWN      \n",
      "3        Ruby            17.22      UP        \n",
      "10       Lua             10.55      DOWN      \n",
      "5        Groovy          9.22       DOWN      \n",
      "6        C               1.55       UP        \n"
     ]
    }
   ],
   "source": [
    "# 2. Formatted Fashion\n",
    "## Python program to print the data\n",
    "d = {1: [\"Python\", 33.2, 'UP'],\n",
    "2: [\"Java\", 23.54, 'DOWN'],\n",
    "3: [\"Ruby\", 17.22, 'UP'],\n",
    "10: [\"Lua\", 10.55, 'DOWN'],\n",
    "5: [\"Groovy\", 9.22, 'DOWN'],\n",
    "6: [\"C\", 1.55, 'UP'] }\n",
    "print (\"{:<8} {:<15} {:<10} {:<10}\".format('Pos','Lang','Percent','Change'))\n",
    "for k, v in d.items():\n",
    "    lang, perc, change = v\n",
    "    print (\"{:<8} {:<15} {:<10} {:<10}\".format(k, lang, perc, change))"
   ]
  },
  {
   "cell_type": "code",
   "execution_count": 11,
   "id": "defc266e",
   "metadata": {},
   "outputs": [
    {
     "name": "stdout",
     "output_type": "stream",
     "text": [
      "Collecting texttable\n",
      "  Downloading texttable-1.6.4-py2.py3-none-any.whl (10 kB)\n",
      "Installing collected packages: texttable\n",
      "Successfully installed texttable-1.6.4\n"
     ]
    }
   ],
   "source": [
    "!pip install texttable"
   ]
  },
  {
   "cell_type": "code",
   "execution_count": 9,
   "id": "94db59e1",
   "metadata": {},
   "outputs": [
    {
     "name": "stdout",
     "output_type": "stream",
     "text": [
      "| Name   |   Age | University   |\n",
      "|--------+-------+--------------|\n",
      "| Hassan |    21 | LUMS         |\n",
      "| Ali    |    22 | FAST         |\n",
      "| Ahmed  |    23 | UET          |\n"
     ]
    }
   ],
   "source": [
    "from tabulate import tabulate\n",
    "\n",
    "l = [[\"Hassan\", 21, \"LUMS\"], [\"Ali\", 22, \"FAST\"], [\"Ahmed\", 23, \"UET\"]]\n",
    "table = tabulate(l, headers=['Name', 'Age', 'University'], tablefmt='orgtbl')\n",
    "\n",
    "print(table)"
   ]
  },
  {
   "cell_type": "code",
   "execution_count": 13,
   "id": "3f525bd3",
   "metadata": {},
   "outputs": [
    {
     "name": "stdout",
     "output_type": "stream",
     "text": [
      "+--------+-----+------------+\n",
      "|  Name  | Age | University |\n",
      "+--------+-----+------------+\n",
      "| Hassan |  21 |    LUMS    |\n",
      "|  Ali   |  22 |    FAST    |\n",
      "| Ahmed  |  23 |    UET     |\n",
      "+--------+-----+------------+\n"
     ]
    }
   ],
   "source": [
    "from prettytable import PrettyTable\n",
    "\n",
    "l = [[\"Hassan\", 21, \"LUMS\"], [\"Ali\", 22, \"FAST\"], [\"Ahmed\", 23, \"UET\"]]\n",
    "\n",
    "table = PrettyTable(['Name', 'Age', 'University'])\n",
    "\n",
    "for rec in l:\n",
    "    table.add_row(rec)\n",
    "    \n",
    "print(table)"
   ]
  },
  {
   "cell_type": "code",
   "execution_count": 12,
   "id": "af57be0c",
   "metadata": {},
   "outputs": [
    {
     "name": "stdout",
     "output_type": "stream",
     "text": [
      "+--------+-----+------------+\n",
      "|  Name  | Age | University |\n",
      "+========+=====+============+\n",
      "| Hassan | 21  | LUMS       |\n",
      "+--------+-----+------------+\n",
      "| Ali    | 22  | FAST       |\n",
      "+--------+-----+------------+\n",
      "| Ahmed  | 23  | UET        |\n",
      "+--------+-----+------------+\n"
     ]
    }
   ],
   "source": [
    "from texttable import Texttable\n",
    "\n",
    "# texttable takes the first reocrd in the list as the column names\n",
    "# of the table\n",
    "l = [[\"Name\", \"Age\", \"University\"], [\"Hassan\", 21, \"LUMS\"], [\"Ali\", 22, \"FAST\"], [\"Ahmed\", 23, \"UET\"]]\n",
    "\n",
    "table = Texttable()\n",
    "table.add_rows(l)\n",
    "print(table.draw())"
   ]
  },
  {
   "cell_type": "code",
   "execution_count": null,
   "id": "e4a9f3d5",
   "metadata": {},
   "outputs": [],
   "source": []
  }
 ],
 "metadata": {
  "kernelspec": {
   "display_name": "Python 3 (ipykernel)",
   "language": "python",
   "name": "python3"
  },
  "language_info": {
   "codemirror_mode": {
    "name": "ipython",
    "version": 3
   },
   "file_extension": ".py",
   "mimetype": "text/x-python",
   "name": "python",
   "nbconvert_exporter": "python",
   "pygments_lexer": "ipython3",
   "version": "3.8.8"
  }
 },
 "nbformat": 4,
 "nbformat_minor": 5
}
