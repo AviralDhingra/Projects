{
 "cells": [
  {
   "cell_type": "code",
   "execution_count": 1,
   "id": "8e46069e",
   "metadata": {},
   "outputs": [
    {
     "name": "stdout",
     "output_type": "stream",
     "text": [
      "ENTER THE NUMBER : 454555\n",
      "454555 x 1 = 454555\n",
      "454555 x 2 = 909110\n",
      "454555 x 3 = 1363665\n",
      "454555 x 4 = 1818220\n",
      "454555 x 5 = 2272775\n",
      "454555 x 6 = 2727330\n",
      "454555 x 7 = 3181885\n",
      "454555 x 8 = 3636440\n",
      "454555 x 9 = 4090995\n",
      "454555 x 10 = 4545550\n"
     ]
    }
   ],
   "source": [
    "t = int(input(\"ENTER THE NUMBER : \"))\n",
    "for i in range(1, 11):\n",
    "  b  = t * i\n",
    "  print(f\"{t} x {i} = {b}\")"
   ]
  },
  {
   "cell_type": "code",
   "execution_count": null,
   "id": "0fdc0979",
   "metadata": {},
   "outputs": [],
   "source": [
    "# Using format() function to print dict and lists\n",
    "# Using tabulate() function to print dict and lists\n",
    "# texttable\n",
    "# beautifultable\n",
    "# PrettyTable  ** pip install PrettyTable\n",
    "\n",
    "# 1. Unformatted Fashion\n",
    "## Python program to print the data\n",
    "d = {1: [\"Python\", 33.2, 'UP'],\n",
    "2: [\"Java\", 23.54, 'DOWN'],\n",
    "3: [\"Ruby\", 17.22, 'UP'],\n",
    "10: [\"Lua\", 10.55, 'DOWN'],\n",
    "5: [\"Groovy\", 9.22, 'DOWN'],\n",
    "6: [\"C\", 1.55, 'UP'] }\n",
    "print (\"Pos,Lang,Percent,Change\")\n",
    "for k, v in d.items():\n",
    "    lang, perc, change = v\n",
    "    print (k, lang, perc, change)\n",
    "\n",
    "\n",
    "# 2. Formatted Fashion\n",
    "## Python program to print the data\n",
    "d = {1: [\"Python\", 33.2, 'UP'],\n",
    "2: [\"Java\", 23.54, 'DOWN'],\n",
    "3: [\"Ruby\", 17.22, 'UP'],\n",
    "10: [\"Lua\", 10.55, 'DOWN'],\n",
    "5: [\"Groovy\", 9.22, 'DOWN'],\n",
    "6: [\"C\", 1.55, 'UP'] }\n",
    "print (\"{:<8} {:<15} {:<10} {:<10}\".format('Pos','Lang','Percent','Change'))\n",
    "for k, v in d.items():\n",
    "    lang, perc, change = v\n",
    "    print (\"{:<8} {:<15} {:<10} {:<10}\".format(k, lang, perc, change))"
   ]
  }
 ],
 "metadata": {
  "kernelspec": {
   "display_name": "Python 3 (ipykernel)",
   "language": "python",
   "name": "python3"
  },
  "language_info": {
   "codemirror_mode": {
    "name": "ipython",
    "version": 3
   },
   "file_extension": ".py",
   "mimetype": "text/x-python",
   "name": "python",
   "nbconvert_exporter": "python",
   "pygments_lexer": "ipython3",
   "version": "3.8.8"
  }
 },
 "nbformat": 4,
 "nbformat_minor": 5
}
